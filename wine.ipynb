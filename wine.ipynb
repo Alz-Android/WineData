{
 "cells": [
  {
   "cell_type": "code",
   "execution_count": 9,
   "metadata": {
    "collapsed": true
   },
   "outputs": [],
   "source": [
    "import numpy as np\n",
    "import pandas as pd\n",
    "from sklearn.model_selection import train_test_split\n",
    "from sklearn import preprocessing\n",
    "\n",
    "from IPython.display import display # Allows the use of display() for DataFrames\n",
    "\n",
    "# Import supplementary visualizations code visuals.py\n",
    "import visuals as vs\n",
    "\n",
    "# Pretty display for notebooks\n",
    "%matplotlib inline"
   ]
  },
  {
   "cell_type": "code",
   "execution_count": 10,
   "metadata": {
    "collapsed": true
   },
   "outputs": [],
   "source": [
    "dataset_url = 'http://mlr.cs.umass.edu/ml/machine-learning-databases/wine-quality/winequality-red.csv'\n",
    "data = pd.read_csv(dataset_url, sep=';')"
   ]
  },
  {
   "cell_type": "code",
   "execution_count": 11,
   "metadata": {},
   "outputs": [
    {
     "name": "stdout",
     "output_type": "stream",
     "text": [
      "   fixed acidity  volatile acidity  citric acid  residual sugar  chlorides  \\\n",
      "0            7.4              0.70         0.00             1.9      0.076   \n",
      "1            7.8              0.88         0.00             2.6      0.098   \n",
      "2            7.8              0.76         0.04             2.3      0.092   \n",
      "3           11.2              0.28         0.56             1.9      0.075   \n",
      "4            7.4              0.70         0.00             1.9      0.076   \n",
      "\n",
      "   free sulfur dioxide  total sulfur dioxide  density    pH  sulphates  \\\n",
      "0                 11.0                  34.0   0.9978  3.51       0.56   \n",
      "1                 25.0                  67.0   0.9968  3.20       0.68   \n",
      "2                 15.0                  54.0   0.9970  3.26       0.65   \n",
      "3                 17.0                  60.0   0.9980  3.16       0.58   \n",
      "4                 11.0                  34.0   0.9978  3.51       0.56   \n",
      "\n",
      "   alcohol  quality  \n",
      "0      9.4        5  \n",
      "1      9.8        5  \n",
      "2      9.8        5  \n",
      "3      9.8        6  \n",
      "4      9.4        5  \n"
     ]
    }
   ],
   "source": [
    "print (data.head())"
   ]
  },
  {
   "cell_type": "code",
   "execution_count": 12,
   "metadata": {},
   "outputs": [
    {
     "data": {
      "text/html": [
       "<div>\n",
       "<style>\n",
       "    .dataframe thead tr:only-child th {\n",
       "        text-align: right;\n",
       "    }\n",
       "\n",
       "    .dataframe thead th {\n",
       "        text-align: left;\n",
       "    }\n",
       "\n",
       "    .dataframe tbody tr th {\n",
       "        vertical-align: top;\n",
       "    }\n",
       "</style>\n",
       "<table border=\"1\" class=\"dataframe\">\n",
       "  <thead>\n",
       "    <tr style=\"text-align: right;\">\n",
       "      <th></th>\n",
       "      <th>fixed acidity</th>\n",
       "      <th>volatile acidity</th>\n",
       "      <th>citric acid</th>\n",
       "      <th>residual sugar</th>\n",
       "      <th>chlorides</th>\n",
       "      <th>free sulfur dioxide</th>\n",
       "      <th>total sulfur dioxide</th>\n",
       "      <th>density</th>\n",
       "      <th>pH</th>\n",
       "      <th>sulphates</th>\n",
       "      <th>alcohol</th>\n",
       "      <th>quality</th>\n",
       "    </tr>\n",
       "  </thead>\n",
       "  <tbody>\n",
       "    <tr>\n",
       "      <th>count</th>\n",
       "      <td>1599.000000</td>\n",
       "      <td>1599.000000</td>\n",
       "      <td>1599.000000</td>\n",
       "      <td>1599.000000</td>\n",
       "      <td>1599.000000</td>\n",
       "      <td>1599.000000</td>\n",
       "      <td>1599.000000</td>\n",
       "      <td>1599.000000</td>\n",
       "      <td>1599.000000</td>\n",
       "      <td>1599.000000</td>\n",
       "      <td>1599.000000</td>\n",
       "      <td>1599.000000</td>\n",
       "    </tr>\n",
       "    <tr>\n",
       "      <th>mean</th>\n",
       "      <td>8.319637</td>\n",
       "      <td>0.527821</td>\n",
       "      <td>0.270976</td>\n",
       "      <td>2.538806</td>\n",
       "      <td>0.087467</td>\n",
       "      <td>15.874922</td>\n",
       "      <td>46.467792</td>\n",
       "      <td>0.996747</td>\n",
       "      <td>3.311113</td>\n",
       "      <td>0.658149</td>\n",
       "      <td>10.422983</td>\n",
       "      <td>5.636023</td>\n",
       "    </tr>\n",
       "    <tr>\n",
       "      <th>std</th>\n",
       "      <td>1.741096</td>\n",
       "      <td>0.179060</td>\n",
       "      <td>0.194801</td>\n",
       "      <td>1.409928</td>\n",
       "      <td>0.047065</td>\n",
       "      <td>10.460157</td>\n",
       "      <td>32.895324</td>\n",
       "      <td>0.001887</td>\n",
       "      <td>0.154386</td>\n",
       "      <td>0.169507</td>\n",
       "      <td>1.065668</td>\n",
       "      <td>0.807569</td>\n",
       "    </tr>\n",
       "    <tr>\n",
       "      <th>min</th>\n",
       "      <td>4.600000</td>\n",
       "      <td>0.120000</td>\n",
       "      <td>0.000000</td>\n",
       "      <td>0.900000</td>\n",
       "      <td>0.012000</td>\n",
       "      <td>1.000000</td>\n",
       "      <td>6.000000</td>\n",
       "      <td>0.990070</td>\n",
       "      <td>2.740000</td>\n",
       "      <td>0.330000</td>\n",
       "      <td>8.400000</td>\n",
       "      <td>3.000000</td>\n",
       "    </tr>\n",
       "    <tr>\n",
       "      <th>25%</th>\n",
       "      <td>7.100000</td>\n",
       "      <td>0.390000</td>\n",
       "      <td>0.090000</td>\n",
       "      <td>1.900000</td>\n",
       "      <td>0.070000</td>\n",
       "      <td>7.000000</td>\n",
       "      <td>22.000000</td>\n",
       "      <td>0.995600</td>\n",
       "      <td>3.210000</td>\n",
       "      <td>0.550000</td>\n",
       "      <td>9.500000</td>\n",
       "      <td>5.000000</td>\n",
       "    </tr>\n",
       "    <tr>\n",
       "      <th>50%</th>\n",
       "      <td>7.900000</td>\n",
       "      <td>0.520000</td>\n",
       "      <td>0.260000</td>\n",
       "      <td>2.200000</td>\n",
       "      <td>0.079000</td>\n",
       "      <td>14.000000</td>\n",
       "      <td>38.000000</td>\n",
       "      <td>0.996750</td>\n",
       "      <td>3.310000</td>\n",
       "      <td>0.620000</td>\n",
       "      <td>10.200000</td>\n",
       "      <td>6.000000</td>\n",
       "    </tr>\n",
       "    <tr>\n",
       "      <th>75%</th>\n",
       "      <td>9.200000</td>\n",
       "      <td>0.640000</td>\n",
       "      <td>0.420000</td>\n",
       "      <td>2.600000</td>\n",
       "      <td>0.090000</td>\n",
       "      <td>21.000000</td>\n",
       "      <td>62.000000</td>\n",
       "      <td>0.997835</td>\n",
       "      <td>3.400000</td>\n",
       "      <td>0.730000</td>\n",
       "      <td>11.100000</td>\n",
       "      <td>6.000000</td>\n",
       "    </tr>\n",
       "    <tr>\n",
       "      <th>max</th>\n",
       "      <td>15.900000</td>\n",
       "      <td>1.580000</td>\n",
       "      <td>1.000000</td>\n",
       "      <td>15.500000</td>\n",
       "      <td>0.611000</td>\n",
       "      <td>72.000000</td>\n",
       "      <td>289.000000</td>\n",
       "      <td>1.003690</td>\n",
       "      <td>4.010000</td>\n",
       "      <td>2.000000</td>\n",
       "      <td>14.900000</td>\n",
       "      <td>8.000000</td>\n",
       "    </tr>\n",
       "  </tbody>\n",
       "</table>\n",
       "</div>"
      ],
      "text/plain": [
       "       fixed acidity  volatile acidity  citric acid  residual sugar  \\\n",
       "count    1599.000000       1599.000000  1599.000000     1599.000000   \n",
       "mean        8.319637          0.527821     0.270976        2.538806   \n",
       "std         1.741096          0.179060     0.194801        1.409928   \n",
       "min         4.600000          0.120000     0.000000        0.900000   \n",
       "25%         7.100000          0.390000     0.090000        1.900000   \n",
       "50%         7.900000          0.520000     0.260000        2.200000   \n",
       "75%         9.200000          0.640000     0.420000        2.600000   \n",
       "max        15.900000          1.580000     1.000000       15.500000   \n",
       "\n",
       "         chlorides  free sulfur dioxide  total sulfur dioxide      density  \\\n",
       "count  1599.000000          1599.000000           1599.000000  1599.000000   \n",
       "mean      0.087467            15.874922             46.467792     0.996747   \n",
       "std       0.047065            10.460157             32.895324     0.001887   \n",
       "min       0.012000             1.000000              6.000000     0.990070   \n",
       "25%       0.070000             7.000000             22.000000     0.995600   \n",
       "50%       0.079000            14.000000             38.000000     0.996750   \n",
       "75%       0.090000            21.000000             62.000000     0.997835   \n",
       "max       0.611000            72.000000            289.000000     1.003690   \n",
       "\n",
       "                pH    sulphates      alcohol      quality  \n",
       "count  1599.000000  1599.000000  1599.000000  1599.000000  \n",
       "mean      3.311113     0.658149    10.422983     5.636023  \n",
       "std       0.154386     0.169507     1.065668     0.807569  \n",
       "min       2.740000     0.330000     8.400000     3.000000  \n",
       "25%       3.210000     0.550000     9.500000     5.000000  \n",
       "50%       3.310000     0.620000    10.200000     6.000000  \n",
       "75%       3.400000     0.730000    11.100000     6.000000  \n",
       "max       4.010000     2.000000    14.900000     8.000000  "
      ]
     },
     "metadata": {},
     "output_type": "display_data"
    }
   ],
   "source": [
    "# Display a description of the dataset\n",
    "display(data.describe())"
   ]
  },
  {
   "cell_type": "code",
   "execution_count": 13,
   "metadata": {},
   "outputs": [
    {
     "data": {
      "image/png": "[encoded data removed]",
      "text/plain": [
       "<matplotlib.figure.Figure at 0x182e6c51c18>"
      ]
     },
     "metadata": {},
     "output_type": "display_data"
    }
   ],
   "source": [
    "import matplotlib.pyplot as pl\n",
    "import seaborn as sns\n",
    "\n",
    "sns.set()\n",
    "_, ax = pl.subplots(figsize=(15, 4))\n",
    "sns.boxplot(data=data, ax=ax);"
   ]
  },
  {
   "cell_type": "code",
   "execution_count": 14,
   "metadata": {},
   "outputs": [
    {
     "data": {
      "text/plain": [
       "<matplotlib.axes._subplots.AxesSubplot at 0x182e7595860>"
      ]
     },
     "execution_count": 14,
     "metadata": {},
     "output_type": "execute_result"
    },
    {
     "data": {
      "image/png": "[encoded data removed]",
      "text/plain": [
       "<matplotlib.figure.Figure at 0x182e75b8208>"
      ]
     },
     "metadata": {},
     "output_type": "display_data"
    }
   ],
   "source": [
    "std_scale = preprocessing.StandardScaler()\n",
    "data_std = std_scale.fit_transform(data)\n",
    "data_std = pd.DataFrame(data_std, columns=data.columns)\n",
    "\n",
    "_, ax = pl.subplots(figsize=(15, 4))\n",
    "sns.boxplot(data=data_std, ax=ax)"
   ]
  },
  {
   "cell_type": "code",
   "execution_count": 15,
   "metadata": {},
   "outputs": [
    {
     "name": "stdout",
     "output_type": "stream",
     "text": [
      "(1179, 12)\n"
     ]
    }
   ],
   "source": [
    "from collections import Counter\n",
    "\n",
    "# list of all outliers for all features that are to be removed\n",
    "allOutliers=list()\n",
    "\n",
    "for feature in data_std.keys():\n",
    "\n",
    "    # 25th and 75th percentile of the data_std f\n",
    "    Q1 = np.percentile(data_std[feature],25)\n",
    "    Q3 = np.percentile(data_std[feature],75)\n",
    "    step = 1.5*(Q3-Q1)\n",
    "\n",
    "    # take all indices and concat here inside the for loop\n",
    "    featureOutlier = data_std.index.values[~((data_std[feature] >= Q1 - step) & (data_std[feature] <= Q3 + step))]\n",
    "\n",
    "    # convert ndarray to list for concatenation with list of all outliers \n",
    "    allOutliers = allOutliers + featureOutlier.tolist()\n",
    "\n",
    "# after removing duplicates from the list\n",
    "outliers  = list(set(allOutliers))\n",
    "\n",
    "# Remove the outliers\n",
    "good_data_std = data_std.drop(data_std.index[outliers]).reset_index(drop = True)\n",
    "print (good_data_std.shape)"
   ]
  },
  {
   "cell_type": "code",
   "execution_count": 16,
   "metadata": {},
   "outputs": [
    {
     "data": {
      "text/plain": [
       "<matplotlib.axes._subplots.AxesSubplot at 0x182e8d474a8>"
      ]
     },
     "execution_count": 16,
     "metadata": {},
     "output_type": "execute_result"
    },
    {
     "data": {
      "image/png": "[encoded data removed]",
      "text/plain": [
       "<matplotlib.figure.Figure at 0x182e8d3e438>"
      ]
     },
     "metadata": {},
     "output_type": "display_data"
    }
   ],
   "source": [
    "_, ax = pl.subplots(figsize=(15, 4))\n",
    "sns.boxplot(data=good_data_std, ax=ax)"
   ]
  },
  {
   "cell_type": "code",
   "execution_count": 17,
   "metadata": {
    "scrolled": true
   },
   "outputs": [
    {
     "name": "stdout",
     "output_type": "stream",
     "text": [
      "The R2 score using the LinearRegression 0.4138090521574139.\n",
      "The mean squared error using the LinearRegression 0.46184162419168395.\n",
      "\n",
      "RandomForestRegressor estimators:25.\n",
      "The R2 score using the RandomForestRegressor 0.5084334545454546.\n",
      "The mean squared error using the RandomForestRegressor 0.38728999925121216.\n"
     ]
    }
   ],
   "source": [
    "from sklearn.linear_model import LinearRegression\n",
    "from sklearn.ensemble import RandomForestRegressor\n",
    "from sklearn import metrics\n",
    "\n",
    "y = good_data_std.quality\n",
    "X = good_data_std.drop('quality', axis=1)\n",
    "X_train, X_test, y_train, y_test = train_test_split(X, y, \n",
    "                                                    test_size=0.2, \n",
    "                                                    random_state=123, \n",
    "                                                    stratify=y)\n",
    "clf=LinearRegression()\n",
    "clf.fit(X_train, y_train) \n",
    "pred = clf.predict(X_test)\n",
    "print('The R2 score using the LinearRegression {}.'.format(metrics.r2_score(y_test, pred)))\n",
    "print('The mean squared error using the LinearRegression {}.'.format(metrics.mean_squared_error(y_test, pred)))\n",
    "print()\n",
    "\n",
    "n_estimators=25\n",
    "clf=RandomForestRegressor(n_estimators)\n",
    "clf.fit(X_train, y_train) \n",
    "pred = clf.predict(X_test)\n",
    "print('RandomForestRegressor estimators:{}.'.format(n_estimators))\n",
    "print('The R2 score using the RandomForestRegressor {}.'.format(metrics.r2_score(y_test, pred)))\n",
    "print('The mean squared error using the RandomForestRegressor {}.'.format(metrics.mean_squared_error(y_test, pred)))\n"
   ]
  },
  {
   "cell_type": "code",
   "execution_count": 18,
   "metadata": {},
   "outputs": [
    {
     "name": "stdout",
     "output_type": "stream",
     "text": [
      "RandomForestRegressor estimators:100.\n",
      "The R2 score using the RandomForestRegressor 0.5228764895104896.\n",
      "The mean squared error using the RandomForestRegressor 0.3759107810100252.\n"
     ]
    }
   ],
   "source": [
    "n_estimators=100\n",
    "clf=RandomForestRegressor(n_estimators)\n",
    "clf.fit(X_train, y_train) \n",
    "pred = clf.predict(X_test)\n",
    "print('RandomForestRegressor estimators:{}.'.format(n_estimators))\n",
    "print('The R2 score using the RandomForestRegressor {}.'.format(metrics.r2_score(y_test, pred)))\n",
    "print('The mean squared error using the RandomForestRegressor {}.'.format(metrics.mean_squared_error(y_test, pred)))"
   ]
  },
  {
   "cell_type": "code",
   "execution_count": 19,
   "metadata": {},
   "outputs": [
    {
     "name": "stdout",
     "output_type": "stream",
     "text": [
      "RandomForestRegressor estimators:200.\n",
      "The R2 score using the RandomForestRegressor 0.5213171153846159.\n",
      "The mean squared error using the RandomForestRegressor 0.37713936340568754.\n"
     ]
    }
   ],
   "source": [
    "n_estimators=200\n",
    "clf=RandomForestRegressor(n_estimators)\n",
    "clf.fit(X_train, y_train) \n",
    "pred = clf.predict(X_test)\n",
    "print('RandomForestRegressor estimators:{}.'.format(n_estimators))\n",
    "print('The R2 score using the RandomForestRegressor {}.'.format(metrics.r2_score(y_test, pred)))\n",
    "print('The mean squared error using the RandomForestRegressor {}.'.format(metrics.mean_squared_error(y_test, pred)))"
   ]
  },
  {
   "cell_type": "code",
   "execution_count": 49,
   "metadata": {},
   "outputs": [
    {
     "name": "stdout",
     "output_type": "stream",
     "text": [
      "{'n_estimators': 350, 'min_samples_split': 5, 'min_samples_leaf': 1, 'max_features': 'sqrt', 'max_depth': 80, 'bootstrap': False}\n",
      "The R2 score using the RandomForestRegressor 0.5125918327941901.\n",
      "The mean squared error using the RandomForestRegressor 0.38401374230547186.\n",
      "Mean Test Score [ 0.40590034  0.44036907  0.44397976  0.40858098  0.43097553  0.4317356\n",
      "  0.40858543  0.41542144  0.44635509  0.41196963].\n",
      "Standard Deviation of Test Score [ 0.08922285  0.06364107  0.06398351  0.07747605  0.08591412  0.06380784\n",
      "  0.07993427  0.07081814  0.06622419  0.06825561].\n"
     ]
    }
   ],
   "source": [
    "from sklearn.model_selection import GridSearchCV\n",
    "from sklearn.model_selection import RandomizedSearchCV\n",
    "\n",
    "rfr=RandomForestRegressor()\n",
    "\n",
    "param_grid = { \n",
    "    'n_estimators': [int(x) for x in np.linspace(start = 50, stop = 450, num = 5)],\n",
    "    'max_depth': [int(x) for x in np.linspace(10, 110, num = 11)],\n",
    "    'min_samples_split': [2, 5, 10],\n",
    "    'min_samples_leaf': [1, 2, 4],\n",
    "    'bootstrap' : [True, False],\n",
    "    'max_features': ['auto', 'sqrt', 'log2']\n",
    "}\n",
    "\n",
    "\n",
    "clf = RandomizedSearchCV(estimator=rfr, param_distributions=param_grid, cv=5)\n",
    " \n",
    "clf.fit(X_train, y_train) \n",
    "pred = clf.predict(X_test)\n",
    "print (clf.best_params_)\n",
    "\n",
    "print('The R2 score using the RandomForestRegressor {}.'.format(metrics.r2_score(y_test, pred)))\n",
    "print('The mean squared error using the RandomForestRegressor {}.'.format(metrics.mean_squared_error(y_test, pred)))\n",
    "\n",
    "\n",
    "print('Mean Test Score {}.'.format(clf.cv_results_[\"mean_test_score\"]))\n",
    "print('Standard Deviation of Test Score {}.'.format(clf.cv_results_[\"std_test_score\"]))"
   ]
  },
  {
   "cell_type": "code",
   "execution_count": 50,
   "metadata": {},
   "outputs": [
    {
     "name": "stdout",
     "output_type": "stream",
     "text": [
      "Average of Mean Test Scores 0.42438728859203784.\n",
      "Average of Standard Deviation of Test Score 0.07292776490740523.\n"
     ]
    }
   ],
   "source": [
    "print('Average of Mean Test Scores {}.'.format(np.mean(clf.cv_results_[\"mean_test_score\"])))\n",
    "print('Average of Standard Deviation of Test Score {}.'.format(np.mean(clf.cv_results_[\"std_test_score\"])))"
   ]
  },
  {
   "cell_type": "code",
   "execution_count": 39,
   "metadata": {},
   "outputs": [
    {
     "name": "stdout",
     "output_type": "stream",
     "text": [
      "RandomForestRegressor estimators:250.\n",
      "The R2 score using the RandomForestRegressor 0.5241875602797207.\n",
      "The mean squared error using the RandomForestRegressor 0.37487782910976053.\n",
      "Feature ranking:\n",
      "1. feature 10 (0.266031)\n",
      "2. feature 9 (0.159515)\n",
      "3. feature 1 (0.088043)\n",
      "4. feature 6 (0.082122)\n",
      "5. feature 4 (0.070131)\n",
      "6. feature 7 (0.067077)\n",
      "7. feature 2 (0.063214)\n",
      "8. feature 8 (0.059215)\n",
      "9. feature 0 (0.051947)\n",
      "10. feature 5 (0.049192)\n",
      "11. feature 3 (0.043513)\n"
     ]
    },
    {
     "data": {
      "image/png": "[encoded data removed]",
      "text/plain": [
       "<matplotlib.figure.Figure at 0x182e7576198>"
      ]
     },
     "metadata": {},
     "output_type": "display_data"
    }
   ],
   "source": [
    "n_estimators=250\n",
    "clf=RandomForestRegressor(n_estimators)\n",
    "clf.fit(X_train, y_train) \n",
    "pred = clf.predict(X_test)\n",
    "print('RandomForestRegressor estimators:{}.'.format(n_estimators))\n",
    "print('The R2 score using the RandomForestRegressor {}.'.format(metrics.r2_score(y_test, pred)))\n",
    "print('The mean squared error using the RandomForestRegressor {}.'.format(metrics.mean_squared_error(y_test, pred)))\n",
    "\n",
    "importances = clf.feature_importances_\n",
    "std = np.std([tree.feature_importances_ for tree in clf.estimators_], axis=0)\n",
    "indices = np.argsort(importances)[::-1]\n",
    "\n",
    "# Print the feature ranking\n",
    "print(\"Feature ranking:\")\n",
    "\n",
    "for f in range(X.shape[1]):\n",
    "    print(\"%d. feature %d (%f)\" % (f + 1, indices[f], importances[indices[f]]))\n",
    "\n",
    "# Plot the feature importances of the forest\n",
    "pl.figure()\n",
    "pl.title(\"Feature importances\")\n",
    "pl.bar(range(X.shape[1]), importances[indices],\n",
    "       color=\"r\", yerr=std[indices], align=\"center\")\n",
    "pl.xticks(range(X.shape[1]), indices)\n",
    "pl.xlim([-1, X.shape[1]])\n",
    "pl.show()"
   ]
  },
  {
   "cell_type": "code",
   "execution_count": null,
   "metadata": {
    "collapsed": true
   },
   "outputs": [],
   "source": []
  }
 ],
 "metadata": {
  "kernelspec": {
   "display_name": "Python 3",
   "language": "python",
   "name": "python3"
  },
  "language_info": {
   "codemirror_mode": {
    "name": "ipython",
    "version": 3
   },
   "file_extension": ".py",
   "mimetype": "text/x-python",
   "name": "python",
   "nbconvert_exporter": "python",
   "pygments_lexer": "ipython3",
   "version": "3.6.1"
  }
 },
 "nbformat": 4,
 "nbformat_minor": 2
}
